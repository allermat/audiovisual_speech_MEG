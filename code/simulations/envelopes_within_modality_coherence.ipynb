{
 "cells": [
  {
   "cell_type": "code",
   "execution_count": null,
   "metadata": {
    "collapsed": false
   },
   "outputs": [],
   "source": [
    "import os.path as op\n",
    "import socket\n",
    "import mne\n",
    "from mne.time_frequency import csd_array_morlet, csd_array_fourier\n",
    "import numpy as np\n",
    "import itertools\n",
    "from scipy.special import comb\n",
    "from scipy.io import loadmat\n",
    "from scipy.signal import decimate\n",
    "import matplotlib.pyplot as plt\n",
    "\n",
    "# Set how many jobs csd calculation should use\n",
    "if 'node' in socket.gethostname():\n",
    "    N_JOBS_CSD = 16\n",
    "else:\n",
    "    N_JOBS_CSD = 8"
   ]
  },
  {
   "cell_type": "code",
   "execution_count": null,
   "metadata": {
    "collapsed": false
   },
   "outputs": [],
   "source": [
    "subID = 'sub-01'\n",
    "dest_dir = op.join('/imaging', 'ma09', 'Projects', 'AVSpeechMEG', 'data',\n",
    "                   'derivatives', 'megcoherence', subID)\n",
    "# Load  envelopes from the first subject\n",
    "envelopes_fname = op.join(dest_dir,'envelopes.mat')\n",
    "temp = loadmat(envelopes_fname)\n",
    "envelopes = temp['envelopes']\n",
    "sfreq = 250.0\n",
    "aud_env = envelopes[:,[0],:]\n",
    "vis_env = envelopes[:,[1],:]"
   ]
  },
  {
   "cell_type": "code",
   "execution_count": null,
   "metadata": {
    "collapsed": false
   },
   "outputs": [],
   "source": [
    "# Resample the signals for fft\n",
    "do_resample = True\n",
    "if do_resample:\n",
    "    decim_fact = 2\n",
    "    sfreq = sfreq/decim_fact\n",
    "    # Decimate applies an anti-aliasing filter first!\n",
    "    aud_env = decimate(aud_env, decim_fact)\n",
    "    vis_env = decimate(vis_env, decim_fact)\n",
    "\n",
    "# Compute all possible pairings of sentences, leaving pairs between same\n",
    "# sentences out (N choose K problem)\n",
    "idx = list(itertools.combinations(range(275),2))\n",
    "idx = np.array([[x,y] for x, y in idx])\n",
    "\n",
    "# Packing envelope pairs in arrays\n",
    "temp0 = aud_env[idx[:,0],:,:]\n",
    "temp1 = aud_env[idx[:,1],:,:]\n",
    "aud_env_allcomb = np.concatenate((temp0,temp1),1)\n",
    "temp0 = vis_env[idx[:,0],:,:]\n",
    "temp1 = vis_env[idx[:,1],:,:]\n",
    "vis_env_allcomb = np.concatenate((temp0,temp1),1)\n",
    "\n",
    "# Estimate the CSD matrix\n",
    "# Using morlet wavelets\n",
    "# freqs_mor = np.arange(0.5,20,0.5).tolist()\n",
    "# csd_mor_aud = csd_array_morlet(aud_env_allcomb, sfreq,\n",
    "#                                frequencies=freqs_mor,\n",
    "#                                verbose=False, n_jobs=N_JOBS_CSD)\n",
    "# csd_mor_vis = csd_array_morlet(vis_env_allcomb, sfreq,\n",
    "#                                frequencies=freqs_mor,\n",
    "#                                verbose=False, n_jobs=N_JOBS_CSD)\n"
   ]
  },
  {
   "cell_type": "code",
   "execution_count": null,
   "metadata": {
    "collapsed": false
   },
   "outputs": [],
   "source": [
    "# Using fft\n",
    "freqs_mor = np.arange(0.5,20,0.5).tolist()\n",
    "csd_fft_aud = csd_array_fourier(aud_env_allcomb, sfreq,\n",
    "                                fmin=freqs_mor[0], fmax=freqs_mor[-1],\n",
    "                                n_fft=None, #round(aud_env_allcomb.shape[-1]/5),\n",
    "                                verbose=False, n_jobs=N_JOBS_CSD)\n",
    "csd_fft_vis = csd_array_fourier(vis_env_allcomb, sfreq,\n",
    "                                fmin=freqs_mor[0], fmax=freqs_mor[-1],\n",
    "                                n_fft=None, #round(vis_env_allcomb.shape[-1]/5),\n",
    "                                verbose=False, n_jobs=N_JOBS_CSD)\n"
   ]
  },
  {
   "cell_type": "code",
   "execution_count": null,
   "metadata": {
    "collapsed": false
   },
   "outputs": [],
   "source": [
    "def coherence_spctrm(csd):\n",
    "    nfreq = csd.__len__()\n",
    "    coherence = []\n",
    "    for ifreq in range(nfreq):\n",
    "        csd_data = csd.get_data(index=ifreq)\n",
    "        psd = np.diag(csd_data).real\n",
    "        act_coh = np.abs(csd_data)**2 / psd[np.newaxis, :] / psd[:, np.newaxis]\n",
    "        coherence.append(act_coh[1,0])\n",
    "    return coherence\n",
    "\n",
    "cohspctrm_mor_aud = coherence_spctrm(csd_mor_aud)\n",
    "cohspctrm_mor_vis = coherence_spctrm(csd_mor_vis)\n",
    "cohspctrm_fft_aud = coherence_spctrm(csd_fft_aud)\n",
    "cohspctrm_fft_vis = coherence_spctrm(csd_fft_vis)"
   ]
  },
  {
   "cell_type": "code",
   "execution_count": null,
   "metadata": {
    "collapsed": false
   },
   "outputs": [],
   "source": [
    "%matplotlib inline\n",
    "\n",
    "# plot auto-coherence spectra\n",
    "fig, ax = plt.subplots(1,2,figsize=[12.8, 4.8])\n",
    "\n",
    "ax[0].plot(freqs_mor, cohspctrm_mor_aud, label='Auditory')\n",
    "ax[0].plot(freqs_mor, cohspctrm_mor_vis, label='Visual')\n",
    "ax[0].set_ylim((0,1))\n",
    "ax[0].legend()\n",
    "ax[0].set_xlabel('Frequency (Hz)')\n",
    "ax[0].set_ylabel('Coherence')\n",
    "ax[0].set_title('Within-modality coherence across sentences\\nMorlet wavelets')\n",
    "\n",
    "freqs_fft = csd_fft_aud.frequencies\n",
    "ax[1].plot(freqs_fft, cohspctrm_fft_aud, label='Auditory')\n",
    "ax[1].plot(freqs_fft, cohspctrm_fft_vis, label='Visual')\n",
    "# ax[1].set_ylim((0,1))\n",
    "ax[1].legend()\n",
    "ax[1].set_xlabel('Frequency (Hz)')\n",
    "ax[1].set_ylabel('Coherence')\n",
    "ax[1].set_title('Within-modality coherence across sentences\\nFourier transform')\n",
    "\n",
    "plt.show()\n"
   ]
  }
 ],
 "metadata": {
  "kernelspec": {
   "argv": [
    "/home/ma09/.conda/envs/avsm/bin/python",
    "-m",
    "ipykernel_launcher",
    "-f",
    "{connection_file}"
   ],
   "display_name": "Python 3",
   "env": null,
   "interrupt_mode": "signal",
   "language": "python",
   "metadata": null,
   "name": "python3"
  },
  "language_info": {
   "codemirror_mode": {
    "name": "ipython",
    "version": 3
   },
   "file_extension": ".py",
   "mimetype": "text/x-python",
   "name": "python",
   "nbconvert_exporter": "python",
   "pygments_lexer": "ipython3",
   "version": "3.7.4"
  },
  "name": "envelopes_within_modality_coherence.ipynb"
 },
 "nbformat": 4,
 "nbformat_minor": 4
}
